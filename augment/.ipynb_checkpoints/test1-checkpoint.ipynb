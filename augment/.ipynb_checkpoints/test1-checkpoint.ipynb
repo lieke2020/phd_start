{
 "cells": [
  {
   "cell_type": "code",
   "execution_count": null,
   "metadata": {},
   "outputs": [],
   "source": [
    "from augment.augment import *\n",
    "from augment.augment import Sigmoid\n",
    "from augment.augment import AugmentNetwork"
   ]
  },
  {
   "cell_type": "code",
   "execution_count": null,
   "metadata": {},
   "outputs": [],
   "source": [
    "p1 = Sigmoid(2)\n",
    "print(p1.theta)"
   ]
  },
  {
   "cell_type": "code",
   "execution_count": null,
   "metadata": {},
   "outputs": [],
   "source": [
    "#print all attributes and default settings of AugmentNetwork\n",
    "p2 = AugmentNetwork();\n",
    "attrs = vars(p2);\n",
    "#print(', '.join(\"%s: %s\" % item for item in attrs.items()))"
   ]
  },
  {
   "cell_type": "code",
   "execution_count": null,
   "metadata": {},
   "outputs": [],
   "source": [
    "#all atributes in AugmentNetwork\n",
    "dir(p2);"
   ]
  },
  {
   "cell_type": "code",
   "execution_count": null,
   "metadata": {},
   "outputs": [],
   "source": [
    "python runner.py"
   ]
  },
  {
   "cell_type": "code",
   "execution_count": null,
   "metadata": {},
   "outputs": [],
   "source": [
    "python runner"
   ]
  },
  {
   "cell_type": "code",
   "execution_count": null,
   "metadata": {},
   "outputs": [],
   "source": [
    "%run runner"
   ]
  },
  {
   "cell_type": "code",
   "execution_count": null,
   "metadata": {},
   "outputs": [],
   "source": []
  },
  {
   "cell_type": "code",
   "execution_count": null,
   "metadata": {},
   "outputs": [],
   "source": [
    "tic()\n",
    "%run runner\n",
    "toc()"
   ]
  },
  {
   "cell_type": "code",
   "execution_count": null,
   "metadata": {},
   "outputs": [],
   "source": [
    "pwd"
   ]
  },
  {
   "cell_type": "code",
   "execution_count": null,
   "metadata": {},
   "outputs": [],
   "source": [
    "pwd"
   ]
  },
  {
   "cell_type": "code",
   "execution_count": null,
   "metadata": {},
   "outputs": [],
   "source": [
    "from task import GGSA"
   ]
  },
  {
   "cell_type": "code",
   "execution_count": null,
   "metadata": {},
   "outputs": [],
   "source": [
    "from augment.augment import AugmentNetwork"
   ]
  },
  {
   "cell_type": "code",
   "execution_count": null,
   "metadata": {},
   "outputs": [],
   "source": [
    "from task.task import GGSA"
   ]
  },
  {
   "cell_type": "code",
   "execution_count": null,
   "metadata": {},
   "outputs": [],
   "source": [
    "from tictoc import *"
   ]
  },
  {
   "cell_type": "code",
   "execution_count": null,
   "metadata": {},
   "outputs": [],
   "source": [
    "tic()\n",
    "toc()"
   ]
  },
  {
   "cell_type": "code",
   "execution_count": 1,
   "metadata": {},
   "outputs": [],
   "source": [
    "import os\n",
    "os.getcwd()\n",
    "os.chdir(\"C:\\\\Users\\\\Lieke\\\\Documents\\\\4_CWI-NIN\\\\WM\\\\workmate-master\")"
   ]
  },
  {
   "cell_type": "code",
   "execution_count": null,
   "metadata": {},
   "outputs": [],
   "source": []
  },
  {
   "cell_type": "code",
   "execution_count": null,
   "metadata": {},
   "outputs": [],
   "source": [
    "tic()\n",
    "%run runner.run_dms()\n",
    "toc()"
   ]
  },
  {
   "cell_type": "code",
   "execution_count": null,
   "metadata": {},
   "outputs": [],
   "source": [
    "import string\n",
    "print(string.ascii_uppercase)"
   ]
  },
  {
   "cell_type": "code",
   "execution_count": null,
   "metadata": {},
   "outputs": [],
   "source": [
    "np.random.choice(list(string.ascii_uppercase))"
   ]
  },
  {
   "cell_type": "code",
   "execution_count": null,
   "metadata": {},
   "outputs": [],
   "source": [
    "stims = np.random.choice(list(string.ascii_uppercase), \n",
    "            n_stim * (n_switches + 1), replace=False)\n",
    "print(stims)"
   ]
  },
  {
   "cell_type": "code",
   "execution_count": null,
   "metadata": {},
   "outputs": [],
   "source": [
    "n_stim = 3\n",
    "n_switches = 2"
   ]
  },
  {
   "cell_type": "code",
   "execution_count": null,
   "metadata": {},
   "outputs": [],
   "source": [
    "import w_runner\n",
    "w_runner.run_dms()\n",
    "#w_runner.run_otax()\n",
    "#w_runner.run_ggsa(prefixed_gates = True)"
   ]
  },
  {
   "cell_type": "code",
   "execution_count": null,
   "metadata": {},
   "outputs": [],
   "source": [
    "#using dpcstrings\n",
    "print(w_runner.run_otax.__doc__)\n",
    "help(w_runner.run_otax)"
   ]
  },
  {
   "cell_type": "code",
   "execution_count": null,
   "metadata": {},
   "outputs": [],
   "source": [
    "os._exit(00)"
   ]
  },
  {
   "cell_type": "code",
   "execution_count": null,
   "metadata": {},
   "outputs": [],
   "source": [
    "import numpy as np\n",
    "import random\n",
    "b = random.random()\n",
    "print(b)\n",
    "print(np.ones((4,5)))\n",
    "a = np.mean(np.ones((4,5)),axis=1)\n",
    "print(4-a)"
   ]
  },
  {
   "cell_type": "code",
   "execution_count": null,
   "metadata": {},
   "outputs": [],
   "source": [
    "x = 10\n",
    "y = 20\n",
    "corr = (x >= y)\n",
    "print(corr)"
   ]
  },
  {
   "cell_type": "code",
   "execution_count": null,
   "metadata": {},
   "outputs": [],
   "source": [
    "import numpy as np\n",
    "import string\n",
    "\n",
    "##################### time cell coding #####################\n",
    "maxtime  = 10\n",
    "# Time vectors are created by convolving a response vector \n",
    "# with an identity matrix, yielding [maxtime] rows of time cell responses,\n",
    "# each peaking at a unique, consecutive time.\n",
    "z = [0.1, 0.25, 0.5, 1, 0.5, 0.25, 0.1]\n",
    "# the '3'-cropping here removes edge artefacts from convolution; \n",
    "# Time cell 0 (at row 0) peaks at the first moment in time (column 0).\n",
    "tmat = np.vstack([np.convolve(z, t) for t in np.eye(maxtime)])\n",
    "print(tmat)"
   ]
  },
  {
   "cell_type": "code",
   "execution_count": null,
   "metadata": {},
   "outputs": [],
   "source": [
    "for t in np.eye(maxtime)\n",
    "    np.convolve(z, t)[ 3:t.size + 3] \n",
    "    print(t.sie)"
   ]
  },
  {
   "cell_type": "code",
   "execution_count": null,
   "metadata": {},
   "outputs": [],
   "source": [
    "for t in np.eye(maxtime):\n",
    "    print(t.size)"
   ]
  },
  {
   "cell_type": "code",
   "execution_count": null,
   "metadata": {},
   "outputs": [],
   "source": [
    "maxtime  = 10\n",
    "# Time vectors are created by convolving a response vector \n",
    "# with an identity matrix, yielding [maxtime] rows of time cell responses,\n",
    "# each peaking at a unique, consecutive time.\n",
    "z = [0.1, 0.25, 0.5, 1, 0.5, 0.25, 0.1]\n",
    "# the '3'-cropping here removes edge artefacts from convolution; \n",
    "# Time cell 0 (at row 0) peaks at the first moment in time (column 0).\n",
    "tmat = np.vstack([np.convolve(z, t)[ 3:t.size + 3] for t in np.eye(maxtime)])\n",
    "print(tmat)"
   ]
  },
  {
   "cell_type": "code",
   "execution_count": null,
   "metadata": {},
   "outputs": [],
   "source": [
    "print(len(z))"
   ]
  },
  {
   "cell_type": "code",
   "execution_count": null,
   "metadata": {},
   "outputs": [],
   "source": [
    "crop = (len(z)-1)/2 \n",
    "print(crop)"
   ]
  },
  {
   "cell_type": "code",
   "execution_count": null,
   "metadata": {},
   "outputs": [],
   "source": [
    "print(len(maxtime))"
   ]
  },
  {
   "cell_type": "code",
   "execution_count": null,
   "metadata": {},
   "outputs": [],
   "source": [
    "##################### time cell coding #####################\n",
    "maxtime  = 10\n",
    "# Time vectors are created by convolving a response vector \n",
    "# with an identity matrix, yielding [maxtime] rows of time cell responses,\n",
    "# each peaking at a unique, consecutive time.\n",
    "z = [0.1, 0.25, 0.5, 1, 0.5, 0.25, 0.1]\n",
    "crop = int((len(z)-1)/2) # the '3'-cropping here removes edge artefacts from convolution; \n",
    "# Time cell 0 (at row 0) peaks at the first moment in time (column 0).\n",
    "tmat = np.vstack([np.convolve(z, t)[crop:maxtime + crop] for t in np.eye(maxtime)])\n",
    "print(tmat)"
   ]
  },
  {
   "cell_type": "code",
   "execution_count": null,
   "metadata": {},
   "outputs": [],
   "source": [
    "print(crop)"
   ]
  },
  {
   "cell_type": "code",
   "execution_count": null,
   "metadata": {},
   "outputs": [],
   "source": [
    "type(int(crop))"
   ]
  },
  {
   "cell_type": "code",
   "execution_count": null,
   "metadata": {},
   "outputs": [],
   "source": [
    "stimbits = 7\n",
    "binstr = '0{}b'.format(stimbits)\n",
    "print(binstr)"
   ]
  },
  {
   "cell_type": "code",
   "execution_count": null,
   "metadata": {},
   "outputs": [],
   "source": [
    "binstrings = [format(i, binstr) for i in range(2**stimbits)]\n",
    "print(binstrings)\n",
    "len(binstrings)"
   ]
  },
  {
   "cell_type": "code",
   "execution_count": null,
   "metadata": {},
   "outputs": [],
   "source": [
    "2**7"
   ]
  },
  {
   "cell_type": "code",
   "execution_count": null,
   "metadata": {},
   "outputs": [],
   "source": [
    "tobinarr = lambda s : np.array([float(c) for c in s])\n",
    "print(tobinarr(binstrings[0]))"
   ]
  },
  {
   "cell_type": "code",
   "execution_count": null,
   "metadata": {},
   "outputs": [],
   "source": [
    "Dx = np.vstack(  [tobinarr(i) for i in binstrings]  )\n",
    "print(Dx)"
   ]
  },
  {
   "cell_type": "code",
   "execution_count": null,
   "metadata": {},
   "outputs": [],
   "source": [
    "2**6"
   ]
  },
  {
   "cell_type": "code",
   "execution_count": null,
   "metadata": {},
   "outputs": [],
   "source": [
    "chars = string.ascii_lowercase + string.ascii_uppercase\n",
    "stimdict = dict( list(zip( chars, Dx )) )\n",
    "print(stimdict)"
   ]
  },
  {
   "cell_type": "code",
   "execution_count": null,
   "metadata": {},
   "outputs": [],
   "source": [
    "stimbits = 6 # (= (256 unique stimuli)) >> 128? (LJC)\n",
    "# construct binary stim_repres\n",
    "binstr = '0{}b'.format(stimbits)\n",
    "binstrings = [format(i, binstr) for i in range(2**stimbits)]\n",
    "tobinarr = lambda s : np.array([float(c) for c in s])\n",
    "Dx = np.vstack(  [tobinarr(i) for i in binstrings]  )\n",
    "\n",
    "# Dx now is a matrix of 128 x 7 bits. 'stimbits' is a dict that will order the \n",
    "# first 52 of these in a lookup table, #why not choose 2**6 when you only use the first 52? (LJC)\n",
    "chars = string.ascii_lowercase + string.ascii_uppercase\n",
    "stimdict = dict( list(zip( chars, Dx )) )\n",
    "print(stimdict)"
   ]
  },
  {
   "cell_type": "code",
   "execution_count": null,
   "metadata": {},
   "outputs": [],
   "source": [
    "stimdict['g'] = np.zeros(stimbits)\n",
    "stimdict['p'] = np.eye(stimbits)[0]\n",
    "stimdict['a'] = np.eye(stimbits)[1]\n",
    "stimdict['l'] = np.eye(stimbits)[2]\n",
    "stimdict['r'] = np.eye(stimbits)[3]"
   ]
  },
  {
   "cell_type": "code",
   "execution_count": null,
   "metadata": {},
   "outputs": [],
   "source": [
    "print(stimdict['g'])"
   ]
  },
  {
   "cell_type": "code",
   "execution_count": null,
   "metadata": {},
   "outputs": [],
   "source": [
    "digdict = dict( \n",
    "    [(d,Dx[i + 2**(stimbits-1) ]) for i,d in enumerate(string.digits) ])\n",
    "stimdict.update( digdict )\n",
    "print(digdict)\n",
    "print(stimdict)"
   ]
  },
  {
   "cell_type": "code",
   "execution_count": null,
   "metadata": {},
   "outputs": [],
   "source": [
    "import string\n",
    "print(enumerate(string.digits))"
   ]
  },
  {
   "cell_type": "code",
   "execution_count": null,
   "metadata": {},
   "outputs": [],
   "source": [
    "A = dict( \n",
    "    [(d,Dx[i + 2**(stimbits-1) ]) for ind,val in enumerate(string.digits) ])\n",
    "print(A)"
   ]
  },
  {
   "cell_type": "code",
   "execution_count": null,
   "metadata": {},
   "outputs": [],
   "source": [
    "Dx[0 + 2**(stimbits-1)]"
   ]
  },
  {
   "cell_type": "code",
   "execution_count": null,
   "metadata": {},
   "outputs": [],
   "source": [
    "Dx[0]"
   ]
  },
  {
   "cell_type": "code",
   "execution_count": null,
   "metadata": {},
   "outputs": [],
   "source": [
    "2**(stimbits-1)"
   ]
  },
  {
   "cell_type": "code",
   "execution_count": null,
   "metadata": {},
   "outputs": [],
   "source": [
    "Dx[32]"
   ]
  },
  {
   "cell_type": "code",
   "execution_count": null,
   "metadata": {},
   "outputs": [],
   "source": [
    "(1,Dx[0 + 2**(stimbits-1) ])"
   ]
  },
  {
   "cell_type": "code",
   "execution_count": null,
   "metadata": {},
   "outputs": [],
   "source": [
    "for ind,val in enumerate(string.digits):\n",
    "    print(ind)\n",
    "    print(val)"
   ]
  },
  {
   "cell_type": "code",
   "execution_count": null,
   "metadata": {},
   "outputs": [],
   "source": [
    "def get_obs(obs='A', t=0):\n",
    "    # return time-stim vec:\n",
    "    return np.r_[ tmat[t], stimdict[obs] ]\n",
    "get_obs('B', 3)"
   ]
  },
  {
   "cell_type": "code",
   "execution_count": null,
   "metadata": {},
   "outputs": [],
   "source": [
    "trial_type = np.random.choice([0,1])\n",
    "tr = trial_type * 2\n",
    "print(trial_type, tr)"
   ]
  },
  {
   "cell_type": "code",
   "execution_count": null,
   "metadata": {},
   "outputs": [],
   "source": [
    "sample, probe = np.random.choice([1,2,3,34,4,5,6,7], 2, replace=False)\n",
    "print(sample, probe)"
   ]
  },
  {
   "cell_type": "code",
   "execution_count": null,
   "metadata": {},
   "outputs": [],
   "source": [
    "DMS.stimset"
   ]
  },
  {
   "cell_type": "code",
   "execution_count": null,
   "metadata": {},
   "outputs": [],
   "source": [
    "env = DMS()\n",
    "getattr(env,stimset)"
   ]
  },
  {
   "cell_type": "code",
   "execution_count": null,
   "metadata": {},
   "outputs": [],
   "source": [
    "list(\"p{}p{}\".format(\"A\", \"B\") )"
   ]
  },
  {
   "cell_type": "code",
   "execution_count": null,
   "metadata": {},
   "outputs": [],
   "source": [
    "import tasks\n",
    "tasks.DMS().stimset\n",
    "tasks.DMS().seq\n",
    "print(len(tasks.DMS().seq))"
   ]
  },
  {
   "cell_type": "code",
   "execution_count": null,
   "metadata": {},
   "outputs": [],
   "source": [
    "t = 2\n",
    "seq = tasks.DMS().seq\n",
    "\n",
    "def go():\n",
    "# is is the end of the sequence?\n",
    "    if t < len(seq):\n",
    "        return 'RESET', 0.0\n",
    "        print(t, len(seq))\n",
    "\n",
    "go()"
   ]
  },
  {
   "cell_type": "code",
   "execution_count": null,
   "metadata": {},
   "outputs": [],
   "source": [
    "import tasks\n",
    "env = tasks.DMS()\n",
    "x1 = tasks.Manual_agent(env)\n",
    "x1.step()"
   ]
  },
  {
   "cell_type": "code",
   "execution_count": 3,
   "metadata": {},
   "outputs": [
    {
     "name": "stdout",
     "output_type": "stream",
     "text": [
      "[[0.77845902 0.9992492  0.62952706 0.27495495]\n",
      " [0.68694279 0.91928482 0.54095512 0.38705057]\n",
      " [0.285457   0.57302033 0.29042485 0.57114707]]\n"
     ]
    }
   ],
   "source": [
    "import numpy as np\n",
    "nx = 4;\n",
    "nS = 3;\n",
    "print(np.random.sample((nS, nx)))"
   ]
  },
  {
   "cell_type": "code",
   "execution_count": 6,
   "metadata": {},
   "outputs": [
    {
     "name": "stdout",
     "output_type": "stream",
     "text": [
      "300 \t 0.008\n",
      "600 \t 0.052\n",
      "900 \t 0.136\n",
      "1200 \t 0.228\n",
      "1500 \t 0.324\n",
      "1800 \t 0.412\n",
      "2100 \t 0.436\n",
      "2400 \t 0.408\n",
      "2700 \t 0.368\n",
      "3000 \t 0.478\n",
      "3300 \t 0.498\n",
      "3600 \t 0.552\n",
      "3900 \t 0.54\n",
      "4200 \t 0.59\n",
      "4500 \t 0.626\n",
      "Convergence at 4757\tSwitch to set 1\n",
      "4800 \t 0.046\n",
      "5100 \t 0.406\n",
      "Convergence at 5185\tSwitch to set 2\n",
      "5400 \t 0.244\n",
      "5700 \t 0.554\n",
      "6000 \t 0.646\n",
      "Convergence at 6087\tSwitch to set 3\n",
      "6300 \t 0.312\n",
      "Convergence at 6312\tSwitch to set 4\n",
      "6600 \t 0.428\n",
      "Convergence at 6685\tSwitch to set 5\n",
      "Convergence at 6819\tSwitch to set 6\n"
     ]
    },
    {
     "data": {
      "text/plain": [
       "(array([4757., 5185., 6087., 6312., 6685., 6819.]),\n",
       " array([[ 0.,  0.,  0., ...,  0.,  0.,  0.],\n",
       "        [ 0.,  1.,  1., ..., nan, nan, nan],\n",
       "        [ 1.,  0.,  0., ...,  0.,  1.,  1.],\n",
       "        [ 0.,  1.,  1., ..., nan, nan, nan],\n",
       "        [ 0.,  1.,  1., ..., nan, nan, nan],\n",
       "        [ 0.,  1.,  1., ..., nan, nan, nan]]))"
      ]
     },
     "execution_count": 6,
     "metadata": {},
     "output_type": "execute_result"
    }
   ],
   "source": [
    "import w_runner\n",
    "w_runner.run_dms()\n",
    "#w_runner.run_otax()\n",
    "#w_runner.run_ggsa(prefixed_gates = True)"
   ]
  },
  {
   "cell_type": "code",
   "execution_count": 3,
   "metadata": {},
   "outputs": [
    {
     "name": "stdout",
     "output_type": "stream",
     "text": [
      "300 \t 0.008\n",
      "600 \t 0.052\n",
      "900 \t 0.136\n",
      "1200 \t 0.228\n",
      "1500 \t 0.324\n",
      "1800 \t 0.412\n",
      "2100 \t 0.436\n",
      "2400 \t 0.408\n",
      "2700 \t 0.368\n",
      "3000 \t 0.478\n",
      "3300 \t 0.498\n",
      "3600 \t 0.552\n",
      "3900 \t 0.54\n",
      "4200 \t 0.59\n",
      "4500 \t 0.626\n",
      "Convergence at 4757\tSwitch to set 1\n",
      "4800 \t 0.046\n",
      "5100 \t 0.406\n",
      "Convergence at 5185\tSwitch to set 2\n",
      "5400 \t 0.244\n",
      "5700 \t 0.554\n",
      "6000 \t 0.646\n",
      "Convergence at 6087\tSwitch to set 3\n",
      "6300 \t 0.312\n",
      "Convergence at 6312\tSwitch to set 4\n",
      "6600 \t 0.428\n",
      "Convergence at 6685\tSwitch to set 5\n",
      "Convergence at 6819\tSwitch to set 6\n"
     ]
    },
    {
     "data": {
      "text/plain": [
       "(array([4757., 5185., 6087., 6312., 6685., 6819.]),\n",
       " array([[ 0.,  0.,  0., ...,  0.,  0.,  0.],\n",
       "        [ 0.,  1.,  1., ..., nan, nan, nan],\n",
       "        [ 1.,  0.,  0., ...,  0.,  1.,  1.],\n",
       "        [ 0.,  1.,  1., ..., nan, nan, nan],\n",
       "        [ 0.,  1.,  1., ..., nan, nan, nan],\n",
       "        [ 0.,  1.,  1., ..., nan, nan, nan]]))"
      ]
     },
     "execution_count": 3,
     "metadata": {},
     "output_type": "execute_result"
    }
   ],
   "source": [
    "import w_runner\n",
    "w_runner.run_dms()\n",
    "#w_runner.run_otax()\n",
    "#w_runner.run_ggsa(prefixed_gates = True)"
   ]
  },
  {
   "cell_type": "code",
   "execution_count": null,
   "metadata": {},
   "outputs": [],
   "source": []
  }
 ],
 "metadata": {
  "kernelspec": {
   "display_name": "Python 3",
   "language": "python",
   "name": "python3"
  },
  "language_info": {
   "codemirror_mode": {
    "name": "ipython",
    "version": 3
   },
   "file_extension": ".py",
   "mimetype": "text/x-python",
   "name": "python",
   "nbconvert_exporter": "python",
   "pygments_lexer": "ipython3",
   "version": "3.7.3"
  }
 },
 "nbformat": 4,
 "nbformat_minor": 4
}
