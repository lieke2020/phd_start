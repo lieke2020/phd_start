{
 "cells": [
  {
   "cell_type": "code",
   "execution_count": 1,
   "metadata": {},
   "outputs": [],
   "source": [
    "import w_runner\n",
    "from tictoc import tic, toc"
   ]
  },
  {
   "cell_type": "markdown",
   "metadata": {},
   "source": []
  },
  {
   "cell_type": "code",
   "execution_count": 4,
   "metadata": {},
   "outputs": [
    {
     "name": "stdout",
     "output_type": "stream",
     "text": [
      "300 \t 0.008\n",
      "600 \t 0.052\n",
      "900 \t 0.136\n",
      "1200 \t 0.228\n",
      "1500 \t 0.324\n",
      "1800 \t 0.412\n",
      "2100 \t 0.436\n",
      "2400 \t 0.408\n",
      "2700 \t 0.368\n",
      "3000 \t 0.478\n",
      "3300 \t 0.498\n",
      "3600 \t 0.552\n",
      "3900 \t 0.54\n",
      "4200 \t 0.59\n",
      "4500 \t 0.626\n",
      "Convergence at 4757\tSwitch to set 1\n",
      "4800 \t 0.046\n",
      "5100 \t 0.406\n",
      "Convergence at 5185\tSwitch to set 2\n",
      "5400 \t 0.244\n",
      "5700 \t 0.554\n",
      "6000 \t 0.646\n",
      "Convergence at 6087\tSwitch to set 3\n",
      "6300 \t 0.312\n",
      "Convergence at 6312\tSwitch to set 4\n",
      "6600 \t 0.428\n",
      "Convergence at 6685\tSwitch to set 5\n",
      "Convergence at 6819\tSwitch to set 6\n",
      "Elapsed time: 17.544853 seconds.\n",
      "\n"
     ]
    }
   ],
   "source": [
    "tic()\n",
    "w_runner.run_dms()\n",
    "#w_runner._run_trial(workmate,dms)\n",
    "#w_runner.run_otax()\n",
    "#w_runner.run_ggsa(prefixed_gates = True)\n",
    "toc()"
   ]
  },
  {
   "cell_type": "code",
   "execution_count": 3,
   "metadata": {},
   "outputs": [
    {
     "data": {
      "text/plain": [
       "'C:\\\\Users\\\\Lieke Ceton\\\\Documents\\\\python\\\\phd_start\\\\workmate-master'"
      ]
     },
     "execution_count": 3,
     "metadata": {},
     "output_type": "execute_result"
    }
   ],
   "source": [
    "#find pathway\n",
    "import os\n",
    "os.getcwd()"
   ]
  },
  {
   "cell_type": "code",
   "execution_count": null,
   "metadata": {},
   "outputs": [],
   "source": []
  }
 ],
 "metadata": {
  "kernelspec": {
   "display_name": "Python 3",
   "language": "python",
   "name": "python3"
  },
  "language_info": {
   "codemirror_mode": {
    "name": "ipython",
    "version": 3
   },
   "file_extension": ".py",
   "mimetype": "text/x-python",
   "name": "python",
   "nbconvert_exporter": "python",
   "pygments_lexer": "ipython3",
   "version": "3.8.5"
  }
 },
 "nbformat": 4,
 "nbformat_minor": 4
}
